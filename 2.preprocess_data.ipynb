{
 "cells": [
  {
   "cell_type": "code",
   "execution_count": 1,
   "id": "27c36d51",
   "metadata": {},
   "outputs": [],
   "source": [
    "import numpy as np\n",
    "import pandas as pd\n",
    "import matplotlib.pyplot as plt\n",
    "from datetime import datetime, timedelta\n",
    "import time\n",
    "import os\n",
    "from blockchain_parser.blockchain import Blockchain\n",
    "\n",
    "# Load in weather data\n",
    "data = pd.read_csv(\"./TX_weather/TME_202109010000_202203310000.txt\")"
   ]
  },
  {
   "cell_type": "code",
   "execution_count": 7,
   "id": "9968b695",
   "metadata": {},
   "outputs": [
    {
     "data": {
      "text/plain": [
       "array(['BKN', 'CLR', 'FEW', 'M', 'OVC', 'SCT', 'VV '], dtype=object)"
      ]
     },
     "execution_count": 7,
     "metadata": {},
     "output_type": "execute_result"
    }
   ],
   "source": [
    "# What are the different weather types?\n",
    "\n",
    "np.unique(data.skyc1)\n",
    "# CLR: Clear (0 oktas)\n",
    "# FEW: Few (1-2 oktas)\n",
    "# SCT: Scattered (3-4 oktas)\n",
    "# BKN: Broken (5-7 oktas)\n",
    "# OVC: Overcast (8 oktas)\n",
    "# M: Missing"
   ]
  },
  {
   "cell_type": "code",
   "execution_count": 8,
   "id": "b0fd761c",
   "metadata": {},
   "outputs": [
    {
     "name": "stdout",
     "output_type": "stream",
     "text": [
      "1321.0 BKN  days out of  14865\n",
      "6628.0 CLR  days out of  14865\n",
      "1471.0 FEW  days out of  14865\n",
      "2303.0 M  days out of  14865\n",
      "1968.0 OVC  days out of  14865\n",
      "1102.0 SCT  days out of  14865\n",
      "72.0 VV   days out of  14865\n",
      "[1321. 6628. 1471. 2303. 1968. 1102.   72.] 14865\n"
     ]
    }
   ],
   "source": [
    "# Data exploration\n",
    "types = np.unique(data.skyc1)\n",
    "n_types = np.zeros(7)\n",
    "for i in range(len(data.skyc1)):\n",
    "    for t in range(len(types)):\n",
    "        if data.skyc1[i] == types[t]:\n",
    "            n_types[t] += 1\n",
    "            \n",
    "for t in range(len(types)):\n",
    "    print(n_types[t], types[t], \" days out of \", len(data.skyc1))\n",
    "        \n",
    "print(n_types, len(data.skyc1))"
   ]
  },
  {
   "cell_type": "code",
   "execution_count": 2,
   "id": "ac404853",
   "metadata": {},
   "outputs": [],
   "source": [
    "stamps = []\n",
    "blockchain = Blockchain(os.path.expanduser('/media/sam/Seagate1TB/data/bitcoin/blocks'))\n",
    "                        \n",
    "for block in blockchain.get_ordered_blocks(os.path.expanduser('/media/sam/Seagate1TB/data/bitcoin/blocks/index'), start=675000, cache='index-cache.pickle'):\n",
    "    stamps.append(block.header.timestamp)\n",
    "    #print(block.height, block.header.timestamp)"
   ]
  },
  {
   "cell_type": "code",
   "execution_count": 3,
   "id": "2c1ceb45",
   "metadata": {},
   "outputs": [],
   "source": [
    "# Create a checkpoint so we don't need to redo the steps above in the future but can directly load in the stamps.\n",
    "with open(\"stamps_blk675000+.txt\", \"w\") as f:\n",
    "    for item in stamps:\n",
    "        f.write(\"%s\\n\" % item)"
   ]
  },
  {
   "cell_type": "code",
   "execution_count": 4,
   "id": "630ff9fd",
   "metadata": {},
   "outputs": [],
   "source": [
    "with open(\"stamps_blk675000+.txt\", \"r\") as f:\n",
    "    lines = f.readlines()"
   ]
  },
  {
   "cell_type": "code",
   "execution_count": 2,
   "id": "ae474ede",
   "metadata": {},
   "outputs": [],
   "source": [
    "# We now have blocktimes and weather. Need to delta(blocktimes) and weather.\n",
    "# 1. Turn weather-types into integers\n",
    "# 2. Compute delta(stamps) (differences in block timestamps, i.e. actual blocktimes)\n",
    "# 3. Link the two so that they temporally align.\n",
    "\n",
    "# 1\n",
    "with open(\"weather_skyc1_march15_april30.txt\", \"r\") as f:\n",
    "    weather = f.readlines()\n",
    "\n",
    "wi = np.zeros(len(weather))\n",
    "VVs = []\n",
    "for i in range(len(weather)):\n",
    "    if weather[i] == \"CLR\\n\":\n",
    "        wi[i] = 0\n",
    "    elif weather[i] == \"FEW\\n\":\n",
    "        wi[i] = 1\n",
    "    elif weather[i] == \"SCT\\n\":\n",
    "        wi[i] = 2\n",
    "    elif weather[i] == \"BKN\\n\":\n",
    "        wi[i] = 3\n",
    "    elif weather[i] == \"OVC\\n\":\n",
    "        wi[i] = 4\n",
    "    elif weather[i] == \"VV \\n\":\n",
    "        VVs.append(i)\n",
    "    else:\n",
    "        print(i, weather[i])\n",
    "    \n",
    "# CLR: Clear (0 oktas)\n",
    "# FEW: Few (1-2 oktas)\n",
    "# SCT: Scattered (3-4 oktas)\n",
    "# BKN: Broken (5-7 oktas)\n",
    "# OVC: Overcast (8 oktas)\n",
    "# M: Missing\n",
    "\n",
    "# 2\n",
    "with open(\"stamps_blk675000+.txt\", \"r\") as f:\n",
    "    blocktimes = f.readlines()\n",
    "    \n",
    "FMT = \"%Y-%m-%d %H:%M:%S\"\n",
    "\n",
    "tdeltas = []\n",
    "tdeltas_seconds = []\n",
    "invalid_i = []\n",
    "for i in range(len(blocktimes)-1):\n",
    "    \n",
    "    td = datetime.strptime(blocktimes[i+1][:-1], FMT) - datetime.strptime(blocktimes[i][:-1], FMT)\n",
    "    \n",
    "    if td.days < 0:\n",
    "        invalid_i.append(i)\n",
    "    else:\n",
    "        dt = datetime.strptime(blocktimes[i+1][:-1], FMT) - datetime.strptime(blocktimes[i][:-1], FMT)\n",
    "        tdeltas.append( dt )\n",
    "        tdeltas_seconds.append( int(dt.total_seconds()) )"
   ]
  },
  {
   "cell_type": "code",
   "execution_count": 3,
   "id": "3230a57c",
   "metadata": {},
   "outputs": [
    {
     "name": "stdout",
     "output_type": "stream",
     "text": [
      "size check: 48350 48350 47475\n"
     ]
    }
   ],
   "source": [
    "# 3\n",
    "# Functions to find the nearest item/index in terms of time:\n",
    "def nearest(items, pivot):\n",
    "    return min(items, key=lambda x: abs(x - pivot))\n",
    "\n",
    "def nearest_ind(items, pivot):\n",
    "    time_diff = np.abs([date - pivot for date in items])\n",
    "    return time_diff.argmin(0)\n",
    "\n",
    "blocktimes = blocktimes[:-1] # last blocktime can't have a delta\n",
    "# tdeltas are blocktimes but we have removed invalid_i\n",
    "blocktimes = np.delete(blocktimes, invalid_i) \n",
    "\n",
    "print(\"size check:\", len(blocktimes), len(tdeltas), len(weather))\n",
    "\n",
    "# We now need to go through the blocktimes and find the closest weather TIME\n",
    "with open(\"weather_times_march15_april30.txt\", \"r\") as f:\n",
    "    weather_time = f.readlines()\n",
    "    \n",
    "FMT_blk = \"%Y-%m-%d %H:%M:%S\"\n",
    "FMT_wtr = \"%Y-%m-%d %H:%M\"\n",
    "\n",
    "# convert blocktimes to datetime class\n",
    "blocktimes_dt = []\n",
    "for i in range(len(blocktimes)):\n",
    "    blocktimes_dt.append( datetime.strptime(blocktimes[i][:-1], FMT_blk) )\n",
    "    \n",
    "weathertimes_dt = []\n",
    "for i in range(len(weather_time)):\n",
    "    weathertimes_dt.append( datetime.strptime(weather_time[i][:-1], FMT_wtr) )\n",
    "    \n",
    "# Perform the actual match\n",
    "wtr_t_match = np.zeros(len(blocktimes_dt))\n",
    "upper = len(blocktimes_dt)\n",
    "indexo = 0\n",
    "radius = 50 # lower=faster but more errorprone (anything above ~50 is very unlikely to yield errors)\n",
    "for i in range(len(blocktimes_dt)):\n",
    "    # Texas is UTC-5, while bitcoin headers are UTC\n",
    "    \n",
    "    if indexo < radius:\n",
    "        L = 0\n",
    "        U = indexo + radius\n",
    "    elif indexo + radius > upper:\n",
    "        L = indexo - radius\n",
    "        U = upper\n",
    "    else:\n",
    "        L = indexo - radius\n",
    "        U = indexo + radius\n",
    "        \n",
    "    index = nearest_ind(weathertimes_dt[L:U+1], blocktimes_dt[i] -timedelta(hours=5))\n",
    "    indexo = index + L # offset index by L ('raising the floor')\n",
    "    \n",
    "    wtr_t_match[i] = indexo\n",
    "\n",
    "# OR: Load it\n",
    "# with open(\"wtr_t_match.txt\", \"r\") as f:\n",
    "#     wtr_t_match = f.readlines()\n",
    "    \n",
    "# Note: Ensure dates from weather data extend beyond block-dates in both direction, otherwise you need to account for this.\n",
    "\n",
    "# Now we can fetch the weather for each blocktime!\n",
    "wtr_at_blk = np.zeros(len(blocktimes_dt))\n",
    "for i in range(len(blocktimes_dt)):\n",
    "    wtr_at_blk[i] = int(wi[int(wtr_t_match[i])])"
   ]
  },
  {
   "cell_type": "code",
   "execution_count": 4,
   "id": "6620ce31",
   "metadata": {},
   "outputs": [],
   "source": [
    "# flag the times (based on blocktimes_dt)\n",
    "# 0 SUNNY: Between 8-16hr, CLR+FEW+SCT\n",
    "# 1 CLOUDY: Between 8-16hr, BKN+OVC\n",
    "# 2 REST: everything else\n",
    "weather_type = np.zeros(len(blocktimes_dt))\n",
    "\n",
    "for i in range(len(blocktimes_dt)):\n",
    "    t = blocktimes_dt[i] -timedelta(hours=5)\n",
    "    if t.time() > datetime.strptime('08:00', '%H:%M').time() and t.time() < datetime.strptime('16:00', '%H:%M').time():\n",
    "        if wtr_at_blk[i] < 2.5:\n",
    "            weather_type[i] = 0\n",
    "        else:\n",
    "            weather_type[i] = 1\n",
    "    else:\n",
    "        weather_type[i] = 2"
   ]
  },
  {
   "cell_type": "code",
   "execution_count": 5,
   "id": "ab7e78e3",
   "metadata": {},
   "outputs": [],
   "source": [
    "# Put everything together:\n",
    "data = {\n",
    "    \"blocktimes_dt\": blocktimes_dt,\n",
    "    \"weather_blk\": wtr_at_blk,\n",
    "    \"tdeltas\": tdeltas_seconds,\n",
    "    \"weather_type\": weather_type}"
   ]
  },
  {
   "cell_type": "code",
   "execution_count": 6,
   "id": "dcf214dc",
   "metadata": {},
   "outputs": [
    {
     "name": "stdout",
     "output_type": "stream",
     "text": [
      "<class 'numpy.float64'>\n"
     ]
    }
   ],
   "source": [
    "df = pd.DataFrame(data=data)"
   ]
  },
  {
   "cell_type": "code",
   "execution_count": 7,
   "id": "fd5333cf",
   "metadata": {},
   "outputs": [],
   "source": [
    "df.to_pickle(\"weathertexasBTC.pickle\") "
   ]
  }
 ],
 "metadata": {
  "kernelspec": {
   "display_name": "Python 3 (ipykernel)",
   "language": "python",
   "name": "python3"
  },
  "language_info": {
   "codemirror_mode": {
    "name": "ipython",
    "version": 3
   },
   "file_extension": ".py",
   "mimetype": "text/x-python",
   "name": "python",
   "nbconvert_exporter": "python",
   "pygments_lexer": "ipython3",
   "version": "3.9.7"
  }
 },
 "nbformat": 4,
 "nbformat_minor": 5
}
